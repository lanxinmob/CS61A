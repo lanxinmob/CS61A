{
 "cells": [
  {
   "cell_type": "code",
   "execution_count": 6,
   "id": "debb29be",
   "metadata": {},
   "outputs": [
    {
     "data": {
      "text/plain": [
       "2582249878086908589655919172003011874329705792829223512830659356540647622016841194629645353280137831435903171972747493376"
      ]
     },
     "execution_count": 6,
     "metadata": {},
     "output_type": "execute_result"
    }
   ],
   "source": [
    "def exp(b,n):\n",
    "    if n==0:\n",
    "        return 1\n",
    "    else:\n",
    "        return b*exp(b,n-1)\n",
    "exp(2,400)"
   ]
  }
 ],
 "metadata": {
  "kernelspec": {
   "display_name": ".venv",
   "language": "python",
   "name": "python3"
  },
  "language_info": {
   "codemirror_mode": {
    "name": "ipython",
    "version": 3
   },
   "file_extension": ".py",
   "mimetype": "text/x-python",
   "name": "python",
   "nbconvert_exporter": "python",
   "pygments_lexer": "ipython3",
   "version": "3.13.5"
  }
 },
 "nbformat": 4,
 "nbformat_minor": 5
}
